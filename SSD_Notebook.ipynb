{
 "cells": [
  {
   "cell_type": "markdown",
   "metadata": {},
   "source": [
    "# Set the scene"
   ]
  },
  {
   "cell_type": "code",
   "execution_count": 6,
   "metadata": {},
   "outputs": [],
   "source": [
    "import pandas as pd\n",
    "import numpy as np\n",
    "from sklearn.preprocessing import MinMaxScaler\n",
    "from sklearn.svm import LinearSVC\n",
    "from sklearn.svm import SVC\n",
    "from sklearn.model_selection import GridSearchCV\n",
    "from sklearn.metrics import classification_report, confusion_matrix, auc, average_precision_score, balanced_accuracy_score, accuracy_score\n",
    "import DataPreparation.Prepare_Ultra_Data as DP\n",
    "import Classification.shallow_classifiers as shallow"
   ]
  },
  {
   "cell_type": "markdown",
   "metadata": {},
   "source": [
    "# Fetching the UltraSuit Dataset"
   ]
  },
  {
   "cell_type": "code",
   "execution_count": null,
   "metadata": {},
   "outputs": [],
   "source": [
    "!mkdir -p ../Datasets/UltraSuite/"
   ]
  },
  {
   "cell_type": "code",
   "execution_count": null,
   "metadata": {},
   "outputs": [],
   "source": [
    "!rsync -av ultrasuite-rsync.inf.ed.ac.uk::ultrasuite/labels-uxtd-uxssd-upx .      "
   ]
  },
  {
   "cell_type": "code",
   "execution_count": null,
   "metadata": {},
   "outputs": [],
   "source": [
    "!rsync -av --include=\"*/\" --include=\"*.wav\" --exclude=\"*\" ultrasuite-rsync.inf.ed.ac.uk::ultrasuite/core-uxtd ../Datasets/UltraSuite/\n",
    "!rsync -av --include=\"*/\" --include=\"*.wav\" --exclude=\"*\" ultrasuite-rsync.inf.ed.ac.uk::ultrasuite/core-uxssd ../Datasets/UltraSuite/\n",
    "!rsync -av --include=\"*/\" --include=\"*.wav\" --exclude=\"*\" ultrasuite-rsync.inf.ed.ac.uk::ultrasuite/core-upx ../Datasets/UltraSuite/        "
   ]
  },
  {
   "cell_type": "markdown",
   "metadata": {},
   "source": [
    "# Extract features"
   ]
  },
  {
   "cell_type": "markdown",
   "metadata": {},
   "source": [
    "UXTD Dataset (Typically Development 58 Childern)"
   ]
  },
  {
   "cell_type": "code",
   "execution_count": null,
   "metadata": {},
   "outputs": [],
   "source": [
    "#Get the start and end time of each CHILD segment from the speaker diarization TextGrid files of each dataset\n",
    "#You can specify which session and task that will be included\n",
    "uxtd_dWaves_Segments = DP.Select_Data('../Datasets/UltraSuite/core-uxtd', '../Datasets/UltraSuite/labels-uxtd-uxssd-upx/uxtd/speaker_labels/TG/', Sessions='', Tasks=['A','B','C'])\n",
    "#dump the segments to text file\n",
    "DP.Write_Wave_Segments_To_File(uxtd_dWaves_Segments,'uxtd_segments.csv')\n",
    "#Run SMILExtract on each segment to extract the desired features\n",
    "#Features defined by the config file passed to the function\n",
    "## GeMAPs (62 features per segment)\n",
    "DP.Extract_Features_openSmile('uxtd_segments.csv',sConfig_File='openSmile/config/gemaps/GeMAPSv01a.conf',sSegment_Level_csv_File='uxtd_output_GeMAPs.csv')\n",
    "## eGeMAPs (88 features per segment)\n",
    "DP.Extract_Features_openSmile('uxtd_segments.csv',sConfig_File='openSmile/config/gemaps/eGeMAPSv01a.conf',sSegment_Level_csv_File='uxtd_output_eGeMAPs.csv')"
   ]
  },
  {
   "cell_type": "markdown",
   "metadata": {},
   "source": [
    "UXSSD Dataset (8 SSD children)"
   ]
  },
  {
   "cell_type": "code",
   "execution_count": null,
   "metadata": {},
   "outputs": [],
   "source": [
    "#Get the start and end time of each CHILD segment from the speaker diarization TextGrid files of each dataset\n",
    "#You can specify which session and task that will be included\n",
    "uxssd_dWaves_Segments = DP.Select_Data('../Datasets/UltraSuite/core-uxssd', '../Datasets/UltraSuite/labels-uxtd-uxssd-upx/uxssd/speaker_labels/TG/', Sessions='BL1', Tasks=['A','B','C'])\n",
    "#dump the segments to text file\n",
    "DP.Write_Wave_Segments_To_File(uxssd_dWaves_Segments,'uxssd_segments.csv')\n",
    "#Run SMILExtract on each segment to extract the desired features\n",
    "#Features defined by the config file passed to the function\n",
    "## GeMAPs (62 features per segment)\n",
    "DP.Extract_Features_openSmile('uxssd_segments.csv',sConfig_File='openSmile/config/gemaps/GeMAPSv01a.conf',sSegment_Level_csv_File='uxssd_output_GeMAPs.csv')\n",
    "## eGeMAPs (88 features per segment)\n",
    "DP.Extract_Features_openSmile('uxssd_segments.csv',sConfig_File='openSmile/config/gemaps/eGeMAPSv01a.conf',sSegment_Level_csv_File='uxssd_output_eGeMAPs.csv')"
   ]
  },
  {
   "cell_type": "markdown",
   "metadata": {},
   "source": [
    "UPX Dataset (20 SSD children)"
   ]
  },
  {
   "cell_type": "code",
   "execution_count": null,
   "metadata": {},
   "outputs": [],
   "source": [
    "#Get the start and end time of each CHILD segment from the speaker diarization TextGrid files of each dataset\n",
    "#You can specify which session and task that will be included\n",
    "upx_dWaves_Segments = DP.Select_Data('../Datasets/UltraSuite/core-upx', '../Datasets/UltraSuite/labels-uxtd-uxssd-upx/upx/speaker_labels/TG/', Sessions='BL1', Tasks=['A','B','C'])\n",
    "#dump the segments to text file\n",
    "DP.Write_Wave_Segments_To_File(upx_dWaves_Segments,'upx_segments.csv')\n",
    "#Run SMILExtract on each segment to extract the desired features\n",
    "#Features defined by the config file passed to the function\n",
    "## GeMAPs (62 features per segment)\n",
    "DP.Extract_Features_openSmile('upx_segments.csv',sConfig_File='openSmile/config/gemaps/GeMAPSv01a.conf',sSegment_Level_csv_File='upx_output_GeMAPs.csv')\n",
    "## eGeMAPs (88 features per segment)\n",
    "DP.Extract_Features_openSmile('upx_segments.csv',sConfig_File='openSmile/config/gemaps/eGeMAPSv01a.conf',sSegment_Level_csv_File='upx_output_eGeMAPs.csv')"
   ]
  },
  {
   "cell_type": "markdown",
   "metadata": {},
   "source": [
    "# Building SVM Model"
   ]
  },
  {
   "cell_type": "markdown",
   "metadata": {},
   "source": [
    "Prepare training/validating"
   ]
  },
  {
   "cell_type": "code",
   "execution_count": 9,
   "metadata": {},
   "outputs": [],
   "source": [
    "#Import data to pandas DataFram\n",
    "#GeMAPs\n",
    "uxtd_data = pd.read_csv('data/uxtd_output_GeMAPs.csv',sep=';')\n",
    "uxssd_data = pd.read_csv('data/uxssd_output_GeMAPs.csv',sep=';')\n",
    "upx_data = pd.read_csv('data/upx_output_GeMAPs.csv',sep=';')"
   ]
  },
  {
   "cell_type": "code",
   "execution_count": null,
   "metadata": {},
   "outputs": [],
   "source": [
    "#eGeMAPs\n",
    "#uxtd_data = pd.read_csv('uxtd_output_eGeMAPs.csv',sep=';')\n",
    "#uxssd_data = pd.read_csv('uxssd_output_eGeMAPs.csv',sep=';')\n",
    "#upx_data = pd.read_csv('upx_output_eGeMAPs.csv',sep=';')"
   ]
  },
  {
   "cell_type": "code",
   "execution_count": 10,
   "metadata": {},
   "outputs": [
    {
     "name": "stdout",
     "output_type": "stream",
     "text": [
      "4 250000.0\n",
      "UXTD 1 0 0\n",
      "UXSSD 1 8 4399\n",
      "UPX 1 20 8708\n",
      "0 4287;9758 482;3349\n",
      "1 3995;9895 774;3212\n",
      "2 4365;10298 404;2809\n",
      "3 4066;9370 703;3737\n"
     ]
    }
   ],
   "source": [
    "#Create CV partitioning based on the split_file.csv, the function also convert the pandas DataFram to numpy arrays\n",
    "#Return X and y and the CV partitions in addition to a string array with the speaker of each sample\n",
    "X, y, Spkrs, CV = DP.Split_Wavs_Train_Test_From_Speaker_List([('UXTD',uxtd_data),('UXSSD',uxssd_data),('UPX',upx_data)], 'data/split_file.csv',nDim=62) #nDim=88 for eGeMAPs"
   ]
  },
  {
   "cell_type": "code",
   "execution_count": null,
   "metadata": {},
   "outputs": [],
   "source": [
    "#Apply Feature selection\n",
    "estimator = SVC(kernel='linear',C=10)\n",
    "selector = shallow.Feature_Selection(estimator,X,y,cv=CV)\n",
    "X = selector.transform(X)"
   ]
  },
  {
   "cell_type": "code",
   "execution_count": null,
   "metadata": {},
   "outputs": [
    {
     "name": "stdout",
     "output_type": "stream",
     "text": [
      "Fitting 4 folds for each of 78 candidates, totalling 312 fits\n",
      "[CV] SVM__C=100, SVM__kernel=linear ..................................\n"
     ]
    },
    {
     "name": "stderr",
     "output_type": "stream",
     "text": [
      "[Parallel(n_jobs=1)]: Using backend SequentialBackend with 1 concurrent workers.\n"
     ]
    },
    {
     "name": "stdout",
     "output_type": "stream",
     "text": [
      "[CV]  SVM__C=100, SVM__kernel=linear, score=0.678246990183482, total= 5.5min\n",
      "[CV] SVM__C=100, SVM__kernel=linear ..................................\n"
     ]
    },
    {
     "name": "stderr",
     "output_type": "stream",
     "text": [
      "[Parallel(n_jobs=1)]: Done   1 out of   1 | elapsed:  5.6min remaining:    0.0s\n"
     ]
    },
    {
     "name": "stdout",
     "output_type": "stream",
     "text": [
      "[CV]  SVM__C=100, SVM__kernel=linear, score=0.6743453972667097, total= 5.0min\n",
      "[CV] SVM__C=100, SVM__kernel=linear ..................................\n"
     ]
    },
    {
     "name": "stderr",
     "output_type": "stream",
     "text": [
      "[Parallel(n_jobs=1)]: Done   2 out of   2 | elapsed: 10.6min remaining:    0.0s\n"
     ]
    },
    {
     "name": "stdout",
     "output_type": "stream",
     "text": [
      "[CV]  SVM__C=100, SVM__kernel=linear, score=0.7695133922434607, total= 6.2min\n",
      "[CV] SVM__C=100, SVM__kernel=linear ..................................\n"
     ]
    },
    {
     "name": "stderr",
     "output_type": "stream",
     "text": [
      "[Parallel(n_jobs=1)]: Done   3 out of   3 | elapsed: 17.0min remaining:    0.0s\n"
     ]
    },
    {
     "name": "stdout",
     "output_type": "stream",
     "text": [
      "[CV]  SVM__C=100, SVM__kernel=linear, score=0.7028646676900976, total= 4.4min\n",
      "[CV] SVM__C=10, SVM__kernel=linear ...................................\n"
     ]
    },
    {
     "name": "stderr",
     "output_type": "stream",
     "text": [
      "[Parallel(n_jobs=1)]: Done   4 out of   4 | elapsed: 21.5min remaining:    0.0s\n"
     ]
    },
    {
     "name": "stdout",
     "output_type": "stream",
     "text": [
      "[CV]  SVM__C=10, SVM__kernel=linear, score=0.6778068389771394, total=  51.3s\n",
      "[CV] SVM__C=10, SVM__kernel=linear ...................................\n",
      "[CV]  SVM__C=10, SVM__kernel=linear, score=0.6727887347511432, total=  50.7s\n",
      "[CV] SVM__C=10, SVM__kernel=linear ...................................\n",
      "[CV]  SVM__C=10, SVM__kernel=linear, score=0.7680977691930817, total=  59.1s\n",
      "[CV] SVM__C=10, SVM__kernel=linear ...................................\n",
      "[CV]  SVM__C=10, SVM__kernel=linear, score=0.7038434995704407, total=  46.6s\n",
      "[CV] SVM__C=1, SVM__kernel=linear ....................................\n",
      "[CV]  SVM__C=1, SVM__kernel=linear, score=0.674687062094463, total=  16.9s\n",
      "[CV] SVM__C=1, SVM__kernel=linear ....................................\n",
      "[CV]  SVM__C=1, SVM__kernel=linear, score=0.6751937180019372, total=  17.0s\n",
      "[CV] SVM__C=1, SVM__kernel=linear ....................................\n",
      "[CV]  SVM__C=1, SVM__kernel=linear, score=0.769157393667455, total=  19.3s\n",
      "[CV] SVM__C=1, SVM__kernel=linear ....................................\n",
      "[CV]  SVM__C=1, SVM__kernel=linear, score=0.7025055279354393, total=  15.9s\n",
      "[CV] SVM__C=0.1, SVM__kernel=linear ..................................\n",
      "[CV]  SVM__C=0.1, SVM__kernel=linear, score=0.6717088398221306, total=  12.1s\n",
      "[CV] SVM__C=0.1, SVM__kernel=linear ..................................\n",
      "[CV]  SVM__C=0.1, SVM__kernel=linear, score=0.6709597568549464, total=  12.5s\n",
      "[CV] SVM__C=0.1, SVM__kernel=linear ..................................\n",
      "[CV]  SVM__C=0.1, SVM__kernel=linear, score=0.7636729007539416, total=  14.1s\n",
      "[CV] SVM__C=0.1, SVM__kernel=linear ..................................\n",
      "[CV]  SVM__C=0.1, SVM__kernel=linear, score=0.7037026604509669, total=  11.9s\n",
      "[CV] SVM__C=0.01, SVM__kernel=linear .................................\n",
      "[CV]  SVM__C=0.01, SVM__kernel=linear, score=0.6594022616523914, total=  12.4s\n",
      "[CV] SVM__C=0.01, SVM__kernel=linear .................................\n",
      "[CV]  SVM__C=0.01, SVM__kernel=linear, score=0.6593085200523875, total=  12.4s\n",
      "[CV] SVM__C=0.01, SVM__kernel=linear .................................\n",
      "[CV]  SVM__C=0.01, SVM__kernel=linear, score=0.7571120408587673, total=  13.8s\n",
      "[CV] SVM__C=0.01, SVM__kernel=linear .................................\n",
      "[CV]  SVM__C=0.01, SVM__kernel=linear, score=0.7007943326338324, total=  12.0s\n",
      "[CV] SVM__C=0.001, SVM__kernel=linear ................................\n",
      "[CV]  SVM__C=0.001, SVM__kernel=linear, score=0.66216923612548, total=  14.0s\n",
      "[CV] SVM__C=0.001, SVM__kernel=linear ................................\n",
      "[CV]  SVM__C=0.001, SVM__kernel=linear, score=0.6485052017466799, total=  13.7s\n",
      "[CV] SVM__C=0.001, SVM__kernel=linear ................................\n",
      "[CV]  SVM__C=0.001, SVM__kernel=linear, score=0.7434814369653413, total=  15.3s\n",
      "[CV] SVM__C=0.001, SVM__kernel=linear ................................\n",
      "[CV]  SVM__C=0.001, SVM__kernel=linear, score=0.6846119178062899, total=  13.2s\n",
      "[CV] SVM__C=100, SVM__gamma=100, SVM__kernel=rbf .....................\n",
      "[CV]  SVM__C=100, SVM__gamma=100, SVM__kernel=rbf, score=0.5, total= 1.5min\n",
      "[CV] SVM__C=100, SVM__gamma=100, SVM__kernel=rbf .....................\n",
      "[CV]  SVM__C=100, SVM__gamma=100, SVM__kernel=rbf, score=0.5, total= 1.8min\n",
      "[CV] SVM__C=100, SVM__gamma=100, SVM__kernel=rbf .....................\n"
     ]
    }
   ],
   "source": [
    "#This function run GridSearch on multiple shallow classifiers (curently only SVM), and search over range of values for different parameters\n",
    "#This function also perform normalization (currently MaxMin normalization with range [0,1])\n",
    "#The function fit the normalization on the training part of the current CV partion and apply on the validation part\n",
    "#The function use UAR (unweighted Average Recall) as its metrics (balanced_accuracy_score)\n",
    "aTrainedModels = shallow.GridSearchShallow(X,y,CV,bSave_Model=True,prefix='_CV_GeMAPs_BL1BL2_SVM_Balanced',verbose=5,n_jobs=1)"
   ]
  },
  {
   "cell_type": "code",
   "execution_count": 7,
   "metadata": {},
   "outputs": [
    {
     "name": "stdout",
     "output_type": "stream",
     "text": [
      "01F_UPX [ 15 209] 1 1 1\n",
      "02F_UPX [ 69 220] 1 1 1\n",
      "03F_UPX [ 3 88] 1 1 1\n",
      "03F_UXSSD [371 121] 0 1 1\n",
      "06M_UXSSD [ 88 286] 1 1 1\n",
      "07F_UXSSD [ 22 179] 1 1 1\n",
      "18F_UPX [ 17 162] 1 1 1\n",
      "18F_UXTD [60  3] 0 0 0\n",
      "24F_UXTD [139   8] 0 0 0\n",
      "26F_UXTD [102  19] 0 0 0\n",
      "33F_UXTD [36 12] 0 0 0\n",
      "36M_UXTD [27  6] 0 0 0\n",
      "41F_UXTD [28 12] 0 0 0\n",
      "48F_UXTD [22  8] 0 0 0\n",
      "01M_UXSSD [137  34] 0 1 1\n",
      "05M_UPX [ 21 175] 1 1 1\n",
      "05M_UXSSD [106 300] 1 1 1\n",
      "05M_UXTD [126   7] 0 0 0\n",
      "06M_UPX [ 16 201] 1 1 1\n",
      "08M_UXTD [117  15] 0 0 0\n",
      "11M_UPX [ 54 159] 1 1 1\n",
      "11M_UXTD [110  23] 0 0 0\n",
      "12M_UPX [ 87 338] 1 1 1\n",
      "12M_UXTD [97 43] 0 0 0\n",
      "15M_UPX [251 100] 0 1 1\n",
      "17M_UXTD [114  39] 0 0 0\n",
      "37M_UXTD [32 10] 0 0 0\n",
      "38M_UXTD [34  7] 0 0 0\n",
      "04M_UPX [236  60] 0 1 1\n",
      "07M_UPX [ 97 150] 1 1 1\n",
      "08M_UXSSD [154  70] 0 1 1\n",
      "09M_UPX [ 27 170] 1 1 1\n",
      "13M_UPX [ 30 285] 1 1 1\n",
      "14M_UPX [ 13 104] 1 1 1\n",
      "15M_UXTD [47  3] 0 0 0\n",
      "16M_UPX [ 64 259] 1 1 1\n",
      "22M_UXTD [133   7] 0 0 0\n",
      "35M_UXTD [29  3] 0 0 0\n",
      "42M_UXTD [27  9] 0 0 0\n",
      "51M_UXTD [38  5] 0 0 0\n",
      "55M_UXTD [23  3] 0 0 0\n",
      "56M_UXTD [62 15] 0 0 0\n",
      "02M_UXSSD [216  64] 0 1 1\n",
      "04M_UXSSD [117 593] 1 1 1\n",
      "04M_UXTD [166   9] 0 0 0\n",
      "08M_UPX [ 35 164] 1 1 1\n",
      "10M_UPX [ 44 248] 1 1 1\n",
      "14M_UXTD [141  22] 0 0 0\n",
      "17M_UPX [ 41 135] 1 1 1\n",
      "19M_UPX [211  98] 0 1 1\n",
      "19M_UXTD [102  37] 0 0 0\n",
      "20M_UPX [145 126] 0 1 1\n",
      "25M_UXTD [93 44] 0 0 0\n",
      "34M_UXTD [23  8] 0 0 0\n",
      "40M_UXTD [23  6] 0 0 0\n",
      "45M_UXTD [23  6] 0 0 0\n",
      "balanced_accuracy_score 0.759091196950634\n",
      "accuracy_score 0.7608395743003548\n",
      "confusion_matrix [[1786  577]\n",
      " [1850 5935]]\n",
      "balanced_accuracy_score 0.8571428571428572\n",
      "accuracy_score 0.8571428571428571\n",
      "confusion_matrix [[28  0]\n",
      " [ 8 20]]\n"
     ]
    }
   ],
   "source": [
    "#Calculate different metrics on both segment and speaker levels of a specific estimator and return reference and predict labels on both segment and speaker level (if SpkrLevel != 'None') otherwise only the segment level label will be returned.\n",
    "#The desired metrics could be passed to the function via the scorers argument.\n",
    "#SpkrLevel can take 3 values: - None: where no speaker level score will be calculated\n",
    "#                             - average: the features of each speaker will be averaged and then predicted as one sample.\n",
    "#                             - major: each segment will be predicted and then if the majority of segments predicted as TD the speaker will be predicted as TD or SSD otherwise.\n",
    "y_ref, y_predict_trans, y_ref_spk, y_predict_spk = shallow.Score_CV(aTrainedModels[0].best_estimator_,X,y,cv=CV,aSpeaker_List=np.asarray(Spkrs,dtype=str), SpkrLevel='major', scorers=[('balanced_accuracy_score',balanced_accuracy_score),('accuracy_score', accuracy_score),('confusion_matrix',confusion_matrix)])"
   ]
  },
  {
   "cell_type": "code",
   "execution_count": 8,
   "metadata": {},
   "outputs": [
    {
     "data": {
      "text/plain": [
       "Pipeline(memory=None,\n",
       "     steps=[('scaler', MinMaxScaler(copy=True, feature_range=(-3, 3))), ('SVM', SVC(C=100, cache_size=200, class_weight='balanced', coef0=0.0,\n",
       "  decision_function_shape='ovr', degree=3, gamma=0.01, kernel='rbf',\n",
       "  max_iter=-1, probability=False, random_state=None, shrinking=True,\n",
       "  tol=0.001, verbose=False))])"
      ]
     },
     "execution_count": 8,
     "metadata": {},
     "output_type": "execute_result"
    }
   ],
   "source": [
    "aTrainedModels[0].best_estimator_"
   ]
  },
  {
   "cell_type": "code",
   "execution_count": null,
   "metadata": {},
   "outputs": [],
   "source": []
  }
 ],
 "metadata": {
  "kernelspec": {
   "display_name": "Python 3",
   "language": "python",
   "name": "python3"
  },
  "language_info": {
   "codemirror_mode": {
    "name": "ipython",
    "version": 3
   },
   "file_extension": ".py",
   "mimetype": "text/x-python",
   "name": "python",
   "nbconvert_exporter": "python",
   "pygments_lexer": "ipython3",
   "version": "3.7.1"
  }
 },
 "nbformat": 4,
 "nbformat_minor": 2
}
