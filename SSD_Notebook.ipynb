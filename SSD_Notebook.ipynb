{
 "cells": [
  {
   "cell_type": "markdown",
   "metadata": {},
   "source": [
    "# Set the scene"
   ]
  },
  {
   "cell_type": "code",
   "execution_count": null,
   "metadata": {},
   "outputs": [],
   "source": [
    "import pandas as pd\n",
    "import numpy as np\n",
    "from sklearn.preprocessing import MinMaxScaler\n",
    "from sklearn.svm import LinearSVC\n",
    "from sklearn.svm import SVC\n",
    "from sklearn.model_selection import GridSearchCV\n",
    "from sklearn.metrics import classification_report, confusion_matrix, auc, average_precision_score, balanced_accuracy_score\n",
    "import DataPreparation.Prepare_Ultra_Data as DP\n",
    "import Classification.shallow_classifiers as shallow"
   ]
  },
  {
   "cell_type": "markdown",
   "metadata": {},
   "source": [
    "# Fetching the UltraSuit Dataset"
   ]
  },
  {
   "cell_type": "code",
   "execution_count": null,
   "metadata": {},
   "outputs": [],
   "source": [
    "!mkdir -p ../Datasets/UltraSuite/"
   ]
  },
  {
   "cell_type": "code",
   "execution_count": null,
   "metadata": {},
   "outputs": [],
   "source": [
    "!rsync -av ultrasuite-rsync.inf.ed.ac.uk::ultrasuite/labels-uxtd-uxssd-upx .      "
   ]
  },
  {
   "cell_type": "code",
   "execution_count": null,
   "metadata": {},
   "outputs": [],
   "source": [
    "!rsync -av --include=\"*/\" --include=\"*.wav\" --exclude=\"*\" ultrasuite-rsync.inf.ed.ac.uk::ultrasuite/core-uxtd ../Datasets/UltraSuite/\n",
    "!rsync -av --include=\"*/\" --include=\"*.wav\" --exclude=\"*\" ultrasuite-rsync.inf.ed.ac.uk::ultrasuite/core-uxssd ../Datasets/UltraSuite/\n",
    "!rsync -av --include=\"*/\" --include=\"*.wav\" --exclude=\"*\" ultrasuite-rsync.inf.ed.ac.uk::ultrasuite/core-upx ../Datasets/UltraSuite/        "
   ]
  },
  {
   "cell_type": "markdown",
   "metadata": {},
   "source": [
    "# Extract features"
   ]
  },
  {
   "cell_type": "markdown",
   "metadata": {},
   "source": [
    "UXTD Dataset (Typically Development 58 Childern)"
   ]
  },
  {
   "cell_type": "code",
   "execution_count": null,
   "metadata": {},
   "outputs": [],
   "source": [
    "#Get the start and end time of each CHILD segment from the speaker diarization TextGrid files of each dataset\n",
    "#You can specify which session and task that will be included\n",
    "uxtd_dWaves_Segments = DP.Select_Data('../Datasets/UltraSuite/core-uxtd', '../Datasets/UltraSuite/labels-uxtd-uxssd-upx/uxtd/speaker_labels/TG/', Sessions='', Tasks=['A','B','C'])\n",
    "#dump the segments to text file\n",
    "DP.Write_Wave_Segments_To_File(uxtd_dWaves_Segments,'uxtd_segments.csv')\n",
    "#Run SMILExtract on each segment to extract the desired features\n",
    "#Features defined by the config file passed to the function\n",
    "## GeMAPs (62 features per segment)\n",
    "DP.Extract_Features_openSmile('uxtd_segments.csv',sConfig_File='openSmile/config/gemaps/GeMAPSv01a.conf',sSegment_Level_csv_File='uxtd_output_GeMAPs.csv')\n",
    "## eGeMAPs (88 features per segment)\n",
    "DP.Extract_Features_openSmile('uxtd_segments.csv',sConfig_File='openSmile/config/gemaps/eGeMAPSv01a.conf',sSegment_Level_csv_File='uxtd_output_eGeMAPs.csv')"
   ]
  },
  {
   "cell_type": "markdown",
   "metadata": {},
   "source": [
    "UXSSD Dataset (8 SSD children)"
   ]
  },
  {
   "cell_type": "code",
   "execution_count": null,
   "metadata": {},
   "outputs": [],
   "source": [
    "#Get the start and end time of each CHILD segment from the speaker diarization TextGrid files of each dataset\n",
    "#You can specify which session and task that will be included\n",
    "uxssd_dWaves_Segments = DP.Select_Data('../Datasets/UltraSuite/core-uxssd', '../Datasets/UltraSuite/labels-uxtd-uxssd-upx/uxssd/speaker_labels/TG/', Sessions='BL1', Tasks=['A','B','C'])\n",
    "#dump the segments to text file\n",
    "DP.Write_Wave_Segments_To_File(uxssd_dWaves_Segments,'uxssd_segments.csv')\n",
    "#Run SMILExtract on each segment to extract the desired features\n",
    "#Features defined by the config file passed to the function\n",
    "## GeMAPs (62 features per segment)\n",
    "DP.Extract_Features_openSmile('uxssd_segments.csv',sConfig_File='openSmile/config/gemaps/GeMAPSv01a.conf',sSegment_Level_csv_File='uxssd_output_GeMAPs.csv')\n",
    "## eGeMAPs (88 features per segment)\n",
    "DP.Extract_Features_openSmile('uxssd_segments.csv',sConfig_File='openSmile/config/gemaps/eGeMAPSv01a.conf',sSegment_Level_csv_File='uxssd_output_eGeMAPs.csv')"
   ]
  },
  {
   "cell_type": "markdown",
   "metadata": {},
   "source": [
    "UPX Dataset (20 SSD children)"
   ]
  },
  {
   "cell_type": "code",
   "execution_count": null,
   "metadata": {},
   "outputs": [],
   "source": [
    "#Get the start and end time of each CHILD segment from the speaker diarization TextGrid files of each dataset\n",
    "#You can specify which session and task that will be included\n",
    "upx_dWaves_Segments = DP.Select_Data('../Datasets/UltraSuite/core-upx', '../Datasets/UltraSuite/labels-uxtd-uxssd-upx/upx/speaker_labels/TG/', Sessions='BL1', Tasks=['A','B','C'])\n",
    "#dump the segments to text file\n",
    "DP.Write_Wave_Segments_To_File(upx_dWaves_Segments,'upx_segments.csv')\n",
    "#Run SMILExtract on each segment to extract the desired features\n",
    "#Features defined by the config file passed to the function\n",
    "## GeMAPs (62 features per segment)\n",
    "DP.Extract_Features_openSmile('upx_segments.csv',sConfig_File='openSmile/config/gemaps/GeMAPSv01a.conf',sSegment_Level_csv_File='upx_output_GeMAPs.csv')\n",
    "## eGeMAPs (88 features per segment)\n",
    "DP.Extract_Features_openSmile('upx_segments.csv',sConfig_File='openSmile/config/gemaps/eGeMAPSv01a.conf',sSegment_Level_csv_File='upx_output_eGeMAPs.csv')"
   ]
  },
  {
   "cell_type": "markdown",
   "metadata": {},
   "source": [
    "# Building SVM Model"
   ]
  },
  {
   "cell_type": "markdown",
   "metadata": {},
   "source": [
    "Prepare training/validating"
   ]
  },
  {
   "cell_type": "code",
   "execution_count": null,
   "metadata": {},
   "outputs": [],
   "source": [
    "#Import data to pandas DataFram\n",
    "#GeMAPs\n",
    "uxtd_data = pd.read_csv('uxtd_output_GeMAPs.csv',sep=';')\n",
    "uxssd_data = pd.read_csv('uxssd_output_GeMAPs.csv',sep=';')\n",
    "upx_data = pd.read_csv('upx_output_GeMAPs.csv',sep=';')"
   ]
  },
  {
   "cell_type": "code",
   "execution_count": null,
   "metadata": {},
   "outputs": [],
   "source": [
    "#eGeMAPs\n",
    "#uxtd_data = pd.read_csv('uxtd_output_eGeMAPs.csv',sep=';')\n",
    "#uxssd_data = pd.read_csv('uxssd_output_eGeMAPs.csv',sep=';')\n",
    "#upx_data = pd.read_csv('upx_output_eGeMAPs.csv',sep=';')"
   ]
  },
  {
   "cell_type": "code",
   "execution_count": null,
   "metadata": {},
   "outputs": [],
   "source": [
    "#Create CV partitioning based on the split_file.csv, the function also convert the pandas DataFram to numpy arrays\n",
    "#Return X and y and the CV partitions in addition to a string array with the speaker of each sample\n",
    "X, y, Spkrs, CV = DP.Split_Wavs_Train_Test_From_Speaker_List([('UXTD',uxtd_data),('UXSSD',uxssd_data),('UPX',upx_data)], 'split_file.csv',nDim=62) #nDim=88 for eGeMAPs"
   ]
  },
  {
   "cell_type": "code",
   "execution_count": null,
   "metadata": {},
   "outputs": [],
   "source": [
    "#Apply Feature selection\n",
    "estimator = SVC(kernel='linear',C=10)\n",
    "selector = shallow.Feature_Selection(estimator,X,y,cv=CV)\n",
    "X = selector.transform(X)"
   ]
  },
  {
   "cell_type": "code",
   "execution_count": null,
   "metadata": {},
   "outputs": [],
   "source": [
    "#This function run GridSearch on multiple shallow classifiers (curently only SVM), and search over range of values for different parameters\n",
    "#This function also perform normalization (currently MaxMin normalization with range [0,1])\n",
    "#The function fit the normalization on the training part of the current CV partion and apply on the validation part\n",
    "#The function use UAR (unweighted Average Recall) as its metrics (balanced_accuracy_score)\n",
    "aTrainedModels = shallow.GridSearchShallow(X,y,CV,bSave_Model=True,prefix='_CV_GeMAPs')"
   ]
  },
  {
   "cell_type": "code",
   "execution_count": null,
   "metadata": {},
   "outputs": [],
   "source": [
    "#Calculate different metrics on both segment and speaker levels of a specific estimator and return reference and predict labels on both segment and speaker level (if SpkrLevel != 'None') otherwise only the segment level label will be returned.\n",
    "#The desired metrics could be passed to the function via the scorers argument.\n",
    "#SpkrLevel can take 3 values: - None: where no speaker level score will be calculated\n",
    "#                             - average: the features of each speaker will be averaged and then predicted as one sample.\n",
    "#                             - major: each segment will be predicted and then if the majority of segments predicted as TD the speaker will be predicted as TD or SSD otherwise.\n",
    "y_ref, y_predict_trans, y_ref_spk, y_predict_spk = shallow.Score_CV(aTrainedModels[0].best_estimator_,X,y,cv=CV,aSpeaker_List=np.asarray(Spkrs,dtype=str), SpkrLevel='major', scorers=[('balanced_accuracy_score',balanced_accuracy_score),('accuracy_score', accuracy_score),('confusion_matrix',confusion_matrix)])"
   ]
  }
 ],
 "metadata": {
  "kernelspec": {
   "display_name": "Python 3",
   "language": "python",
   "name": "python3"
  },
  "language_info": {
   "codemirror_mode": {
    "name": "ipython",
    "version": 3
   },
   "file_extension": ".py",
   "mimetype": "text/x-python",
   "name": "python",
   "nbconvert_exporter": "python",
   "pygments_lexer": "ipython3",
   "version": "3.7.1"
  }
 },
 "nbformat": 4,
 "nbformat_minor": 2
}
