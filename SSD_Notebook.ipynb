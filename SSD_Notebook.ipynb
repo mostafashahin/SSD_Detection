{
 "cells": [
  {
   "cell_type": "markdown",
   "metadata": {},
   "source": [
    "Load Features"
   ]
  },
  {
   "cell_type": "code",
   "execution_count": 16,
   "metadata": {},
   "outputs": [],
   "source": [
    "import pandas as pd\n",
    "import matplotlib as plt"
   ]
  },
  {
   "cell_type": "code",
   "execution_count": 12,
   "metadata": {},
   "outputs": [],
   "source": [
    "data = pd.read_csv('output.csv',header=0,sep=';')"
   ]
  },
  {
   "cell_type": "code",
   "execution_count": 15,
   "metadata": {},
   "outputs": [
    {
     "data": {
      "text/plain": [
       "0      0.000000\n",
       "1      0.010023\n",
       "2      0.020045\n",
       "3      0.030068\n",
       "4      0.040091\n",
       "5      0.050113\n",
       "6      0.060136\n",
       "7      0.070159\n",
       "8      0.080181\n",
       "9      0.090204\n",
       "10     0.100227\n",
       "11     0.110249\n",
       "12     0.120272\n",
       "13     0.130295\n",
       "14     0.140317\n",
       "15     0.150340\n",
       "16     0.160363\n",
       "17     0.170385\n",
       "18     0.180408\n",
       "19     0.190431\n",
       "20     0.200454\n",
       "21     0.210476\n",
       "22     0.220499\n",
       "23     0.230522\n",
       "24     0.240544\n",
       "25     0.250567\n",
       "26     0.260590\n",
       "27     0.270612\n",
       "28     0.280635\n",
       "29     0.290658\n",
       "         ...   \n",
       "913    9.150703\n",
       "914    9.160726\n",
       "915    9.170748\n",
       "916    9.180771\n",
       "917    9.190794\n",
       "918    9.200816\n",
       "919    9.210839\n",
       "920    9.220862\n",
       "921    9.230884\n",
       "922    9.240907\n",
       "923    9.250930\n",
       "924    9.260952\n",
       "925    9.270975\n",
       "926    9.280998\n",
       "927    9.291020\n",
       "928    9.301043\n",
       "929    9.311066\n",
       "930    9.321088\n",
       "931    9.331111\n",
       "932    9.341134\n",
       "933    9.351156\n",
       "934    9.361179\n",
       "935    9.371202\n",
       "936    9.381224\n",
       "937    9.391247\n",
       "938    9.401270\n",
       "939    9.411293\n",
       "940    9.421315\n",
       "941    9.431338\n",
       "942    9.441361\n",
       "Name: frameTime, Length: 943, dtype: float64"
      ]
     },
     "execution_count": 15,
     "metadata": {},
     "output_type": "execute_result"
    }
   ],
   "source": [
    "data['frameTime']"
   ]
  },
  {
   "cell_type": "code",
   "execution_count": 17,
   "metadata": {},
   "outputs": [],
   "source": [
    "x = data.size"
   ]
  },
  {
   "cell_type": "code",
   "execution_count": 18,
   "metadata": {},
   "outputs": [
    {
     "data": {
      "text/plain": [
       "2829"
      ]
     },
     "execution_count": 18,
     "metadata": {},
     "output_type": "execute_result"
    }
   ],
   "source": [
    "x"
   ]
  },
  {
   "cell_type": "code",
   "execution_count": null,
   "metadata": {},
   "outputs": [],
   "source": [
    "data."
   ]
  }
 ],
 "metadata": {
  "kernelspec": {
   "display_name": "Python 2",
   "language": "python",
   "name": "python2"
  },
  "language_info": {
   "codemirror_mode": {
    "name": "ipython",
    "version": 2
   },
   "file_extension": ".py",
   "mimetype": "text/x-python",
   "name": "python",
   "nbconvert_exporter": "python",
   "pygments_lexer": "ipython2",
   "version": "2.7.15"
  }
 },
 "nbformat": 4,
 "nbformat_minor": 2
}
